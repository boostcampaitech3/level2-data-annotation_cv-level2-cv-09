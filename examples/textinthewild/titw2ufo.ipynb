{
 "cells": [
  {
   "cell_type": "code",
   "execution_count": 5,
   "metadata": {},
   "outputs": [],
   "source": [
    "import json\n",
    "with open('/opt/ml/input/data/Textinthewild/ufo/textinthewild_data_info.json', 'rt', encoding='UTF-8') as annotations:\n",
    "    ann = json.load(annotations)"
   ]
  },
  {
   "cell_type": "code",
   "execution_count": 6,
   "metadata": {},
   "outputs": [],
   "source": [
    "\n",
    "file_names = {}\n",
    "\n",
    "for image in ann['images']:\n",
    "    if image['type'] == 'sign': # type = sign(간판) 데이터만 사용\n",
    "        file_name = image['file_name']\n",
    "        image_id = image['id']\n",
    "        file_names[image_id] = file_name\n",
    "\n",
    "\n"
   ]
  },
  {
   "cell_type": "code",
   "execution_count": 16,
   "metadata": {},
   "outputs": [],
   "source": [
    "ufo = {'images':{}}\n",
    "for annotation in ann['annotations']:\n",
    "    ann_id = annotation['id']\n",
    "    image_id = annotation['image_id']\n",
    "    if image_id in file_names:\n",
    "        file_name = file_names[image_id]\n",
    "        xmin = annotation['bbox'][0]\n",
    "        ymin = annotation['bbox'][1]\n",
    "        xmax = xmin + annotation['bbox'][2]\n",
    "        ymax = ymin + annotation['bbox'][3]\n",
    "        points = [[xmin,ymin],[xmax,ymin],[xmax,ymax],[xmin,ymax]]\n",
    "        if file_name in ufo['images']:\n",
    "            ufo['images'][file_name]['words'][ann_id] = {'points':points}\n",
    "            ufo['images'][file_name]['words'][ann_id]['illegibility'] = False\n",
    "\n",
    "        else:\n",
    "            ufo['images'][file_name] = {'words': {ann_id: {'points':points}}}\n",
    "            ufo['images'][file_name]['words'][ann_id]['illegibility'] = False\n",
    "\n"
   ]
  },
  {
   "cell_type": "code",
   "execution_count": 18,
   "metadata": {},
   "outputs": [],
   "source": [
    "with open('textinthewild_ufo.json', 'w', encoding='UTF-8') as revised_annotations:\n",
    "        json.dump(ufo, revised_annotations, indent=2)"
   ]
  },
  {
   "cell_type": "code",
   "execution_count": 2,
   "metadata": {},
   "outputs": [],
   "source": [
    "import os\n",
    "\n",
    "data_dir = '/opt/ml/input/data/Textinthewild/images/Signboard'\n",
    "data = os.listdir(data_dir)"
   ]
  },
  {
   "cell_type": "code",
   "execution_count": 3,
   "metadata": {},
   "outputs": [
    {
     "data": {
      "text/plain": [
       "12910"
      ]
     },
     "execution_count": 3,
     "metadata": {},
     "output_type": "execute_result"
    }
   ],
   "source": [
    "len(data)"
   ]
  },
  {
   "cell_type": "code",
   "execution_count": 7,
   "metadata": {},
   "outputs": [
    {
     "data": {
      "text/plain": [
       "27532"
      ]
     },
     "execution_count": 7,
     "metadata": {},
     "output_type": "execute_result"
    }
   ],
   "source": [
    "len(file_names)"
   ]
  },
  {
   "cell_type": "code",
   "execution_count": 14,
   "metadata": {},
   "outputs": [],
   "source": [
    "gone = []\n",
    "for file in file_names.values():\n",
    "    if file not in data:\n",
    "        gone.append(file)\n"
   ]
  },
  {
   "cell_type": "code",
   "execution_count": 15,
   "metadata": {},
   "outputs": [
    {
     "data": {
      "text/plain": [
       "16961"
      ]
     },
     "execution_count": 15,
     "metadata": {},
     "output_type": "execute_result"
    }
   ],
   "source": [
    "len(gone) # 서버에 올리는 과정에서 누락된 데이터"
   ]
  },
  {
   "cell_type": "code",
   "execution_count": 17,
   "metadata": {},
   "outputs": [
    {
     "name": "stdout",
     "output_type": "stream",
     "text": [
      "original annotation length: 27530\n",
      "after revising: 10569\n"
     ]
    }
   ],
   "source": [
    "with open('/opt/ml/input/data/Textinthewild/ufo/textinthewild_ufo.json', 'rt', encoding='UTF-8') as annotations:\n",
    "    ann = json.load(annotations)\n",
    "    images_ann = ann['images']\n",
    "\n",
    "    print(f'original annotation length: {len(images_ann)}')\n",
    "\n",
    "    for f in gone:\n",
    "        images_ann.pop(f)\n",
    "\n",
    "    print(f'after revising: {len(images_ann)}')\n",
    "\n"
   ]
  },
  {
   "cell_type": "code",
   "execution_count": 18,
   "metadata": {},
   "outputs": [],
   "source": [
    "with open('inthefolder.json', 'w', encoding='UTF-8') as revised_annotations:\n",
    "        json.dump({'images' : images_ann}, revised_annotations, indent=2)"
   ]
  },
  {
   "cell_type": "code",
   "execution_count": null,
   "metadata": {},
   "outputs": [],
   "source": []
  }
 ],
 "metadata": {
  "interpreter": {
   "hash": "d4d1e4263499bec80672ea0156c357c1ee493ec2b1c70f0acce89fc37c4a6abe"
  },
  "kernelspec": {
   "display_name": "Python 3.8.5 ('base': conda)",
   "language": "python",
   "name": "python3"
  },
  "language_info": {
   "codemirror_mode": {
    "name": "ipython",
    "version": 3
   },
   "file_extension": ".py",
   "mimetype": "text/x-python",
   "name": "python",
   "nbconvert_exporter": "python",
   "pygments_lexer": "ipython3",
   "version": "3.8.5"
  },
  "orig_nbformat": 4
 },
 "nbformat": 4,
 "nbformat_minor": 2
}
