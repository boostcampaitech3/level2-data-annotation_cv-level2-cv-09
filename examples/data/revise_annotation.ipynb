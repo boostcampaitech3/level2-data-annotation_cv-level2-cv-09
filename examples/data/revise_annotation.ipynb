{
 "cells": [
  {
   "cell_type": "code",
   "execution_count": 1,
   "metadata": {},
   "outputs": [],
   "source": [
    "import pandas as pd\n",
    "import json"
   ]
  },
  {
   "cell_type": "code",
   "execution_count": 2,
   "metadata": {},
   "outputs": [],
   "source": [
    "wrong_ann_df = pd.read_csv('/opt/ml/code/examples/data/04170019_Annotation_Review.csv', encoding='cp949')"
   ]
  },
  {
   "cell_type": "code",
   "execution_count": 3,
   "metadata": {},
   "outputs": [
    {
     "data": {
      "text/html": [
       "<div>\n",
       "<style scoped>\n",
       "    .dataframe tbody tr th:only-of-type {\n",
       "        vertical-align: middle;\n",
       "    }\n",
       "\n",
       "    .dataframe tbody tr th {\n",
       "        vertical-align: top;\n",
       "    }\n",
       "\n",
       "    .dataframe thead th {\n",
       "        text-align: right;\n",
       "    }\n",
       "</style>\n",
       "<table border=\"1\" class=\"dataframe\">\n",
       "  <thead>\n",
       "    <tr style=\"text-align: right;\">\n",
       "      <th></th>\n",
       "      <th>filename</th>\n",
       "      <th>note</th>\n",
       "    </tr>\n",
       "  </thead>\n",
       "  <tbody>\n",
       "    <tr>\n",
       "      <th>0</th>\n",
       "      <td>1607662862521-14.jpg</td>\n",
       "      <td>annotation 덜 됨</td>\n",
       "    </tr>\n",
       "    <tr>\n",
       "      <th>1</th>\n",
       "      <td>1627442579671.jpg</td>\n",
       "      <td>annotation 덜 됨/box tight하지 않음</td>\n",
       "    </tr>\n",
       "    <tr>\n",
       "      <th>2</th>\n",
       "      <td>1628359968950-1.jpg</td>\n",
       "      <td>annotation 덜 됨</td>\n",
       "    </tr>\n",
       "    <tr>\n",
       "      <th>3</th>\n",
       "      <td>1631619209578-2.jpg</td>\n",
       "      <td>annotation 덜 됨</td>\n",
       "    </tr>\n",
       "    <tr>\n",
       "      <th>4</th>\n",
       "      <td>20191222_173310.jpg</td>\n",
       "      <td>annotation 아예 안 됨</td>\n",
       "    </tr>\n",
       "    <tr>\n",
       "      <th>5</th>\n",
       "      <td>20191222_225910.jpg</td>\n",
       "      <td>annotation 아예 안 됨</td>\n",
       "    </tr>\n",
       "    <tr>\n",
       "      <th>6</th>\n",
       "      <td>20200823_212502.jpg</td>\n",
       "      <td>annotation 아예 안 됨</td>\n",
       "    </tr>\n",
       "    <tr>\n",
       "      <th>7</th>\n",
       "      <td>20200829_012546.jpg</td>\n",
       "      <td>annotation 아예 안 됨</td>\n",
       "    </tr>\n",
       "    <tr>\n",
       "      <th>8</th>\n",
       "      <td>20210913_222612.jpeg</td>\n",
       "      <td>annotation 아예 안 됨</td>\n",
       "    </tr>\n",
       "    <tr>\n",
       "      <th>9</th>\n",
       "      <td>20210914_222525.jpg</td>\n",
       "      <td>annotation 아예 안 됨</td>\n",
       "    </tr>\n",
       "    <tr>\n",
       "      <th>10</th>\n",
       "      <td>20210916_204603.jpeg</td>\n",
       "      <td>annotation 아예 안 됨</td>\n",
       "    </tr>\n",
       "    <tr>\n",
       "      <th>11</th>\n",
       "      <td>20210916_204605.jpeg</td>\n",
       "      <td>annotation 아예 안 됨</td>\n",
       "    </tr>\n",
       "    <tr>\n",
       "      <th>12</th>\n",
       "      <td>20210916_204628.jpeg</td>\n",
       "      <td>annotation 아예 안 됨</td>\n",
       "    </tr>\n",
       "    <tr>\n",
       "      <th>13</th>\n",
       "      <td>20210918_105750.jpg</td>\n",
       "      <td>annotation 아예 안 됨</td>\n",
       "    </tr>\n",
       "    <tr>\n",
       "      <th>14</th>\n",
       "      <td>20210919_165118.jpg</td>\n",
       "      <td>annotation 아예 안 됨</td>\n",
       "    </tr>\n",
       "    <tr>\n",
       "      <th>15</th>\n",
       "      <td>20210925_135221.jpg</td>\n",
       "      <td>annotation 아예 안 됨</td>\n",
       "    </tr>\n",
       "  </tbody>\n",
       "</table>\n",
       "</div>"
      ],
      "text/plain": [
       "                filename                           note\n",
       "0   1607662862521-14.jpg                 annotation 덜 됨\n",
       "1      1627442579671.jpg  annotation 덜 됨/box tight하지 않음\n",
       "2    1628359968950-1.jpg                 annotation 덜 됨\n",
       "3    1631619209578-2.jpg                 annotation 덜 됨\n",
       "4    20191222_173310.jpg              annotation 아예 안 됨\n",
       "5    20191222_225910.jpg              annotation 아예 안 됨\n",
       "6    20200823_212502.jpg              annotation 아예 안 됨\n",
       "7    20200829_012546.jpg              annotation 아예 안 됨\n",
       "8   20210913_222612.jpeg              annotation 아예 안 됨\n",
       "9    20210914_222525.jpg              annotation 아예 안 됨\n",
       "10  20210916_204603.jpeg              annotation 아예 안 됨\n",
       "11  20210916_204605.jpeg              annotation 아예 안 됨\n",
       "12  20210916_204628.jpeg              annotation 아예 안 됨\n",
       "13   20210918_105750.jpg              annotation 아예 안 됨\n",
       "14   20210919_165118.jpg              annotation 아예 안 됨\n",
       "15   20210925_135221.jpg              annotation 아예 안 됨"
      ]
     },
     "execution_count": 3,
     "metadata": {},
     "output_type": "execute_result"
    }
   ],
   "source": [
    "wrong_ann_df"
   ]
  },
  {
   "cell_type": "code",
   "execution_count": 4,
   "metadata": {},
   "outputs": [],
   "source": [
    "wrong_filename = wrong_ann_df['filename'].unique()"
   ]
  },
  {
   "cell_type": "code",
   "execution_count": 6,
   "metadata": {},
   "outputs": [
    {
     "name": "stdout",
     "output_type": "stream",
     "text": [
      "original annotation length: 1288\n",
      "after revising: 1272\n"
     ]
    }
   ],
   "source": [
    "with open('/opt/ml/input/data/dataset/ufo/train.json', 'rt', encoding='UTF-8') as annotations:\n",
    "    ann = json.load(annotations)\n",
    "    images_ann = ann['images']\n",
    "\n",
    "    print(f'original annotation length: {len(images_ann)}')\n",
    "\n",
    "    for f in wrong_filename:\n",
    "        images_ann.pop(f)\n",
    "\n",
    "    print(f'after revising: {len(images_ann)}')"
   ]
  },
  {
   "cell_type": "code",
   "execution_count": 7,
   "metadata": {},
   "outputs": [],
   "source": [
    "with open('revised_train.json', 'w', encoding='UTF-8') as revised_annotations:\n",
    "        json.dump({'images' : images_ann}, revised_annotations, indent=2)"
   ]
  }
 ],
 "metadata": {
  "interpreter": {
   "hash": "d4d1e4263499bec80672ea0156c357c1ee493ec2b1c70f0acce89fc37c4a6abe"
  },
  "kernelspec": {
   "display_name": "Python 3.8.5 ('base')",
   "language": "python",
   "name": "python3"
  },
  "language_info": {
   "codemirror_mode": {
    "name": "ipython",
    "version": 3
   },
   "file_extension": ".py",
   "mimetype": "text/x-python",
   "name": "python",
   "nbconvert_exporter": "python",
   "pygments_lexer": "ipython3",
   "version": "3.8.5"
  },
  "orig_nbformat": 4
 },
 "nbformat": 4,
 "nbformat_minor": 2
}
